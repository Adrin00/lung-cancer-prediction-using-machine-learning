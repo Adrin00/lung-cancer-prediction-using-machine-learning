{
  "cells": [
    {
      "cell_type": "code",
      "execution_count": null,
      "metadata": {
        "colab": {
          "base_uri": "https://localhost:8080/"
        },
        "id": "6VzYMIxriwWm",
        "outputId": "9d556e05-0351-432b-a83a-110b7d7a0203"
      },
      "outputs": [
        {
          "output_type": "stream",
          "name": "stdout",
          "text": [
            "Mounted at /content/drive\n"
          ]
        }
      ],
      "source": [
        "from google.colab import drive\n",
        "drive.mount('/content/drive')"
      ]
    },
    {
      "cell_type": "code",
      "execution_count": null,
      "metadata": {
        "id": "gIZdBy84n2Jy"
      },
      "outputs": [],
      "source": [
        "#import warnings\n",
        "#warnings.filterwarnings('ignore')"
      ]
    },
    {
      "cell_type": "markdown",
      "metadata": {
        "id": "QGkr7Ka7tI_s"
      },
      "source": [
        "## Data Preprocessing"
      ]
    },
    {
      "cell_type": "code",
      "execution_count": null,
      "metadata": {
        "id": "rvEIaePNjIW3"
      },
      "outputs": [],
      "source": [
        "#Import libraries\n",
        "import pandas as pd\n",
        "import seaborn as sns\n",
        "import numpy as np\n",
        "from sklearn import preprocessing\n",
        "from sklearn.impute import SimpleImputer"
      ]
    },
    {
      "cell_type": "code",
      "execution_count": null,
      "metadata": {
        "colab": {
          "base_uri": "https://localhost:8080/",
          "height": 143
        },
        "id": "tb4TFTxejFvd",
        "outputId": "09aadc50-b521-4780-b250-5665d924ab7a"
      },
      "outputs": [
        {
          "output_type": "execute_result",
          "data": {
            "text/plain": [
              "  GENDER  AGE  SMOKING  YELLOW_FINGERS  ANXIETY  PEER_PRESSURE  \\\n",
              "0      M   69        1               2        2            1.0   \n",
              "1      M   74        2               1        1            1.0   \n",
              "2      F   59        1               1        1            2.0   \n",
              "\n",
              "   CHRONIC DISEASE  FATIGUE  ALLERGY  WHEEZING  ALCOHOL CONSUMING  COUGHING  \\\n",
              "0                1        2        1         2                2.0         2   \n",
              "1                2        2        2         1                1.0         1   \n",
              "2                1        2        1         2                1.0         2   \n",
              "\n",
              "   SHORTNESS OF BREATH  SWALLOWING DIFFICULTY  CHEST PAIN LUNG_CANCER  \n",
              "0                  2.0                      2           2         YES  \n",
              "1                  2.0                      2           2         YES  \n",
              "2                  2.0                      1           2          NO  "
            ],
            "text/html": [
              "\n",
              "  <div id=\"df-fe0faf41-684a-45d5-8062-1874526c0c4e\">\n",
              "    <div class=\"colab-df-container\">\n",
              "      <div>\n",
              "<style scoped>\n",
              "    .dataframe tbody tr th:only-of-type {\n",
              "        vertical-align: middle;\n",
              "    }\n",
              "\n",
              "    .dataframe tbody tr th {\n",
              "        vertical-align: top;\n",
              "    }\n",
              "\n",
              "    .dataframe thead th {\n",
              "        text-align: right;\n",
              "    }\n",
              "</style>\n",
              "<table border=\"1\" class=\"dataframe\">\n",
              "  <thead>\n",
              "    <tr style=\"text-align: right;\">\n",
              "      <th></th>\n",
              "      <th>GENDER</th>\n",
              "      <th>AGE</th>\n",
              "      <th>SMOKING</th>\n",
              "      <th>YELLOW_FINGERS</th>\n",
              "      <th>ANXIETY</th>\n",
              "      <th>PEER_PRESSURE</th>\n",
              "      <th>CHRONIC DISEASE</th>\n",
              "      <th>FATIGUE</th>\n",
              "      <th>ALLERGY</th>\n",
              "      <th>WHEEZING</th>\n",
              "      <th>ALCOHOL CONSUMING</th>\n",
              "      <th>COUGHING</th>\n",
              "      <th>SHORTNESS OF BREATH</th>\n",
              "      <th>SWALLOWING DIFFICULTY</th>\n",
              "      <th>CHEST PAIN</th>\n",
              "      <th>LUNG_CANCER</th>\n",
              "    </tr>\n",
              "  </thead>\n",
              "  <tbody>\n",
              "    <tr>\n",
              "      <th>0</th>\n",
              "      <td>M</td>\n",
              "      <td>69</td>\n",
              "      <td>1</td>\n",
              "      <td>2</td>\n",
              "      <td>2</td>\n",
              "      <td>1.0</td>\n",
              "      <td>1</td>\n",
              "      <td>2</td>\n",
              "      <td>1</td>\n",
              "      <td>2</td>\n",
              "      <td>2.0</td>\n",
              "      <td>2</td>\n",
              "      <td>2.0</td>\n",
              "      <td>2</td>\n",
              "      <td>2</td>\n",
              "      <td>YES</td>\n",
              "    </tr>\n",
              "    <tr>\n",
              "      <th>1</th>\n",
              "      <td>M</td>\n",
              "      <td>74</td>\n",
              "      <td>2</td>\n",
              "      <td>1</td>\n",
              "      <td>1</td>\n",
              "      <td>1.0</td>\n",
              "      <td>2</td>\n",
              "      <td>2</td>\n",
              "      <td>2</td>\n",
              "      <td>1</td>\n",
              "      <td>1.0</td>\n",
              "      <td>1</td>\n",
              "      <td>2.0</td>\n",
              "      <td>2</td>\n",
              "      <td>2</td>\n",
              "      <td>YES</td>\n",
              "    </tr>\n",
              "    <tr>\n",
              "      <th>2</th>\n",
              "      <td>F</td>\n",
              "      <td>59</td>\n",
              "      <td>1</td>\n",
              "      <td>1</td>\n",
              "      <td>1</td>\n",
              "      <td>2.0</td>\n",
              "      <td>1</td>\n",
              "      <td>2</td>\n",
              "      <td>1</td>\n",
              "      <td>2</td>\n",
              "      <td>1.0</td>\n",
              "      <td>2</td>\n",
              "      <td>2.0</td>\n",
              "      <td>1</td>\n",
              "      <td>2</td>\n",
              "      <td>NO</td>\n",
              "    </tr>\n",
              "  </tbody>\n",
              "</table>\n",
              "</div>\n",
              "      <button class=\"colab-df-convert\" onclick=\"convertToInteractive('df-fe0faf41-684a-45d5-8062-1874526c0c4e')\"\n",
              "              title=\"Convert this dataframe to an interactive table.\"\n",
              "              style=\"display:none;\">\n",
              "        \n",
              "  <svg xmlns=\"http://www.w3.org/2000/svg\" height=\"24px\"viewBox=\"0 0 24 24\"\n",
              "       width=\"24px\">\n",
              "    <path d=\"M0 0h24v24H0V0z\" fill=\"none\"/>\n",
              "    <path d=\"M18.56 5.44l.94 2.06.94-2.06 2.06-.94-2.06-.94-.94-2.06-.94 2.06-2.06.94zm-11 1L8.5 8.5l.94-2.06 2.06-.94-2.06-.94L8.5 2.5l-.94 2.06-2.06.94zm10 10l.94 2.06.94-2.06 2.06-.94-2.06-.94-.94-2.06-.94 2.06-2.06.94z\"/><path d=\"M17.41 7.96l-1.37-1.37c-.4-.4-.92-.59-1.43-.59-.52 0-1.04.2-1.43.59L10.3 9.45l-7.72 7.72c-.78.78-.78 2.05 0 2.83L4 21.41c.39.39.9.59 1.41.59.51 0 1.02-.2 1.41-.59l7.78-7.78 2.81-2.81c.8-.78.8-2.07 0-2.86zM5.41 20L4 18.59l7.72-7.72 1.47 1.35L5.41 20z\"/>\n",
              "  </svg>\n",
              "      </button>\n",
              "      \n",
              "  <style>\n",
              "    .colab-df-container {\n",
              "      display:flex;\n",
              "      flex-wrap:wrap;\n",
              "      gap: 12px;\n",
              "    }\n",
              "\n",
              "    .colab-df-convert {\n",
              "      background-color: #E8F0FE;\n",
              "      border: none;\n",
              "      border-radius: 50%;\n",
              "      cursor: pointer;\n",
              "      display: none;\n",
              "      fill: #1967D2;\n",
              "      height: 32px;\n",
              "      padding: 0 0 0 0;\n",
              "      width: 32px;\n",
              "    }\n",
              "\n",
              "    .colab-df-convert:hover {\n",
              "      background-color: #E2EBFA;\n",
              "      box-shadow: 0px 1px 2px rgba(60, 64, 67, 0.3), 0px 1px 3px 1px rgba(60, 64, 67, 0.15);\n",
              "      fill: #174EA6;\n",
              "    }\n",
              "\n",
              "    [theme=dark] .colab-df-convert {\n",
              "      background-color: #3B4455;\n",
              "      fill: #D2E3FC;\n",
              "    }\n",
              "\n",
              "    [theme=dark] .colab-df-convert:hover {\n",
              "      background-color: #434B5C;\n",
              "      box-shadow: 0px 1px 3px 1px rgba(0, 0, 0, 0.15);\n",
              "      filter: drop-shadow(0px 1px 2px rgba(0, 0, 0, 0.3));\n",
              "      fill: #FFFFFF;\n",
              "    }\n",
              "  </style>\n",
              "\n",
              "      <script>\n",
              "        const buttonEl =\n",
              "          document.querySelector('#df-fe0faf41-684a-45d5-8062-1874526c0c4e button.colab-df-convert');\n",
              "        buttonEl.style.display =\n",
              "          google.colab.kernel.accessAllowed ? 'block' : 'none';\n",
              "\n",
              "        async function convertToInteractive(key) {\n",
              "          const element = document.querySelector('#df-fe0faf41-684a-45d5-8062-1874526c0c4e');\n",
              "          const dataTable =\n",
              "            await google.colab.kernel.invokeFunction('convertToInteractive',\n",
              "                                                     [key], {});\n",
              "          if (!dataTable) return;\n",
              "\n",
              "          const docLinkHtml = 'Like what you see? Visit the ' +\n",
              "            '<a target=\"_blank\" href=https://colab.research.google.com/notebooks/data_table.ipynb>data table notebook</a>'\n",
              "            + ' to learn more about interactive tables.';\n",
              "          element.innerHTML = '';\n",
              "          dataTable['output_type'] = 'display_data';\n",
              "          await google.colab.output.renderOutput(dataTable, element);\n",
              "          const docLink = document.createElement('div');\n",
              "          docLink.innerHTML = docLinkHtml;\n",
              "          element.appendChild(docLink);\n",
              "        }\n",
              "      </script>\n",
              "    </div>\n",
              "  </div>\n",
              "  "
            ]
          },
          "metadata": {},
          "execution_count": 5
        }
      ],
      "source": [
        "#Read data\n",
        "data = pd.read_csv('/content/drive/MyDrive/CSE422/survey lung cancer1.csv')\n",
        "data.head(3)"
      ]
    },
    {
      "cell_type": "code",
      "execution_count": null,
      "metadata": {
        "colab": {
          "base_uri": "https://localhost:8080/"
        },
        "id": "kmNQVkcAjny_",
        "outputId": "e9815c9c-98c0-4985-a152-4ae5fb32dc69"
      },
      "outputs": [
        {
          "output_type": "execute_result",
          "data": {
            "text/plain": [
              "(309, 16)"
            ]
          },
          "metadata": {},
          "execution_count": 6
        }
      ],
      "source": [
        "data.shape"
      ]
    },
    {
      "cell_type": "code",
      "execution_count": null,
      "metadata": {
        "colab": {
          "base_uri": "https://localhost:8080/"
        },
        "id": "ApXqz_bWjrlX",
        "outputId": "44c3fafd-06fa-4f17-e75a-fea4ffb02fcc"
      },
      "outputs": [
        {
          "output_type": "execute_result",
          "data": {
            "text/plain": [
              "GENDER                    0\n",
              "AGE                       0\n",
              "SMOKING                   0\n",
              "YELLOW_FINGERS            0\n",
              "ANXIETY                   0\n",
              "PEER_PRESSURE            21\n",
              "CHRONIC DISEASE           0\n",
              "FATIGUE                   0\n",
              "ALLERGY                   0\n",
              "WHEEZING                  0\n",
              "ALCOHOL CONSUMING        12\n",
              "COUGHING                  0\n",
              "SHORTNESS OF BREATH      15\n",
              "SWALLOWING DIFFICULTY     0\n",
              "CHEST PAIN                0\n",
              "LUNG_CANCER               0\n",
              "dtype: int64"
            ]
          },
          "metadata": {},
          "execution_count": 7
        }
      ],
      "source": [
        "#Checking for missing values\n",
        "data.isnull().sum()"
      ]
    },
    {
      "cell_type": "code",
      "execution_count": null,
      "metadata": {
        "id": "dwxTCtAy_1se"
      },
      "outputs": [],
      "source": [
        "#Imputing missing values\n",
        "impute = SimpleImputer(missing_values=np.nan, strategy='mean')\n",
        "impute.fit(data[['PEER_PRESSURE']])\n",
        "data['PEER_PRESSURE'] = impute.transform(data[['PEER_PRESSURE']])\n",
        "\n",
        "impute.fit(data[['ALCOHOL CONSUMING']])\n",
        "data['ALCOHOL CONSUMING'] = impute.transform(data[['ALCOHOL CONSUMING']])\n",
        "\n",
        "impute.fit(data[['SHORTNESS OF BREATH']])\n",
        "data['SHORTNESS OF BREATH'] = impute.transform(data[['SHORTNESS OF BREATH']])"
      ]
    },
    {
      "cell_type": "code",
      "execution_count": null,
      "metadata": {
        "id": "jQkKOhuYAmEe",
        "colab": {
          "base_uri": "https://localhost:8080/"
        },
        "outputId": "1f661bdf-7562-430e-8456-d9f414aae372"
      },
      "outputs": [
        {
          "output_type": "execute_result",
          "data": {
            "text/plain": [
              "GENDER                   0\n",
              "AGE                      0\n",
              "SMOKING                  0\n",
              "YELLOW_FINGERS           0\n",
              "ANXIETY                  0\n",
              "PEER_PRESSURE            0\n",
              "CHRONIC DISEASE          0\n",
              "FATIGUE                  0\n",
              "ALLERGY                  0\n",
              "WHEEZING                 0\n",
              "ALCOHOL CONSUMING        0\n",
              "COUGHING                 0\n",
              "SHORTNESS OF BREATH      0\n",
              "SWALLOWING DIFFICULTY    0\n",
              "CHEST PAIN               0\n",
              "LUNG_CANCER              0\n",
              "dtype: int64"
            ]
          },
          "metadata": {},
          "execution_count": 9
        }
      ],
      "source": [
        "data.isnull().sum()"
      ]
    },
    {
      "cell_type": "code",
      "execution_count": null,
      "metadata": {
        "colab": {
          "base_uri": "https://localhost:8080/"
        },
        "id": "r94fYzKOkcOG",
        "outputId": "8eb59e81-41aa-4399-bc21-ff2d00bce494"
      },
      "outputs": [
        {
          "output_type": "execute_result",
          "data": {
            "text/plain": [
              "26"
            ]
          },
          "metadata": {},
          "execution_count": 10
        }
      ],
      "source": [
        "#Checking for duplicate values\n",
        "data.duplicated().sum()"
      ]
    },
    {
      "cell_type": "code",
      "execution_count": null,
      "metadata": {
        "id": "4b9gr-D5kj3I"
      },
      "outputs": [],
      "source": [
        "#Dropping duplicate values\n",
        "data=data.drop_duplicates()"
      ]
    },
    {
      "cell_type": "code",
      "execution_count": null,
      "metadata": {
        "id": "wfPCO2pHR2WS",
        "colab": {
          "base_uri": "https://localhost:8080/"
        },
        "outputId": "fe7a02f6-72c2-4cc2-b16c-4e56ac2a07c8"
      },
      "outputs": [
        {
          "output_type": "stream",
          "name": "stderr",
          "text": [
            "/usr/local/lib/python3.7/dist-packages/ipykernel_launcher.py:3: SettingWithCopyWarning: \n",
            "A value is trying to be set on a copy of a slice from a DataFrame.\n",
            "Try using .loc[row_indexer,col_indexer] = value instead\n",
            "\n",
            "See the caveats in the documentation: https://pandas.pydata.org/pandas-docs/stable/user_guide/indexing.html#returning-a-view-versus-a-copy\n",
            "  This is separate from the ipykernel package so we can avoid doing imports until\n",
            "/usr/local/lib/python3.7/dist-packages/ipykernel_launcher.py:4: SettingWithCopyWarning: \n",
            "A value is trying to be set on a copy of a slice from a DataFrame.\n",
            "Try using .loc[row_indexer,col_indexer] = value instead\n",
            "\n",
            "See the caveats in the documentation: https://pandas.pydata.org/pandas-docs/stable/user_guide/indexing.html#returning-a-view-versus-a-copy\n",
            "  after removing the cwd from sys.path.\n"
          ]
        }
      ],
      "source": [
        "#Enconding Categorical Features\n",
        "le = preprocessing.LabelEncoder()\n",
        "data['GENDER']=le.fit_transform(data['GENDER'])\n",
        "data['LUNG_CANCER']=le.fit_transform(data['LUNG_CANCER'])\n"
      ]
    },
    {
      "cell_type": "code",
      "execution_count": null,
      "metadata": {
        "colab": {
          "base_uri": "https://localhost:8080/",
          "height": 143
        },
        "id": "d-C2frSEo4Jy",
        "outputId": "943ae982-b175-44c7-9f34-133ec543eed4"
      },
      "outputs": [
        {
          "output_type": "execute_result",
          "data": {
            "text/plain": [
              "   GENDER  AGE  SMOKING  YELLOW_FINGERS  ANXIETY  PEER_PRESSURE  \\\n",
              "0       1   69        1               2        2            1.0   \n",
              "1       1   74        2               1        1            1.0   \n",
              "2       0   59        1               1        1            2.0   \n",
              "\n",
              "   CHRONIC DISEASE  FATIGUE  ALLERGY  WHEEZING  ALCOHOL CONSUMING  COUGHING  \\\n",
              "0                1        2        1         2                2.0         2   \n",
              "1                2        2        2         1                1.0         1   \n",
              "2                1        2        1         2                1.0         2   \n",
              "\n",
              "   SHORTNESS OF BREATH  SWALLOWING DIFFICULTY  CHEST PAIN  LUNG_CANCER  \n",
              "0                  2.0                      2           2            1  \n",
              "1                  2.0                      2           2            1  \n",
              "2                  2.0                      1           2            0  "
            ],
            "text/html": [
              "\n",
              "  <div id=\"df-2f240ab3-c0ca-4528-bedf-1269e6f9da01\">\n",
              "    <div class=\"colab-df-container\">\n",
              "      <div>\n",
              "<style scoped>\n",
              "    .dataframe tbody tr th:only-of-type {\n",
              "        vertical-align: middle;\n",
              "    }\n",
              "\n",
              "    .dataframe tbody tr th {\n",
              "        vertical-align: top;\n",
              "    }\n",
              "\n",
              "    .dataframe thead th {\n",
              "        text-align: right;\n",
              "    }\n",
              "</style>\n",
              "<table border=\"1\" class=\"dataframe\">\n",
              "  <thead>\n",
              "    <tr style=\"text-align: right;\">\n",
              "      <th></th>\n",
              "      <th>GENDER</th>\n",
              "      <th>AGE</th>\n",
              "      <th>SMOKING</th>\n",
              "      <th>YELLOW_FINGERS</th>\n",
              "      <th>ANXIETY</th>\n",
              "      <th>PEER_PRESSURE</th>\n",
              "      <th>CHRONIC DISEASE</th>\n",
              "      <th>FATIGUE</th>\n",
              "      <th>ALLERGY</th>\n",
              "      <th>WHEEZING</th>\n",
              "      <th>ALCOHOL CONSUMING</th>\n",
              "      <th>COUGHING</th>\n",
              "      <th>SHORTNESS OF BREATH</th>\n",
              "      <th>SWALLOWING DIFFICULTY</th>\n",
              "      <th>CHEST PAIN</th>\n",
              "      <th>LUNG_CANCER</th>\n",
              "    </tr>\n",
              "  </thead>\n",
              "  <tbody>\n",
              "    <tr>\n",
              "      <th>0</th>\n",
              "      <td>1</td>\n",
              "      <td>69</td>\n",
              "      <td>1</td>\n",
              "      <td>2</td>\n",
              "      <td>2</td>\n",
              "      <td>1.0</td>\n",
              "      <td>1</td>\n",
              "      <td>2</td>\n",
              "      <td>1</td>\n",
              "      <td>2</td>\n",
              "      <td>2.0</td>\n",
              "      <td>2</td>\n",
              "      <td>2.0</td>\n",
              "      <td>2</td>\n",
              "      <td>2</td>\n",
              "      <td>1</td>\n",
              "    </tr>\n",
              "    <tr>\n",
              "      <th>1</th>\n",
              "      <td>1</td>\n",
              "      <td>74</td>\n",
              "      <td>2</td>\n",
              "      <td>1</td>\n",
              "      <td>1</td>\n",
              "      <td>1.0</td>\n",
              "      <td>2</td>\n",
              "      <td>2</td>\n",
              "      <td>2</td>\n",
              "      <td>1</td>\n",
              "      <td>1.0</td>\n",
              "      <td>1</td>\n",
              "      <td>2.0</td>\n",
              "      <td>2</td>\n",
              "      <td>2</td>\n",
              "      <td>1</td>\n",
              "    </tr>\n",
              "    <tr>\n",
              "      <th>2</th>\n",
              "      <td>0</td>\n",
              "      <td>59</td>\n",
              "      <td>1</td>\n",
              "      <td>1</td>\n",
              "      <td>1</td>\n",
              "      <td>2.0</td>\n",
              "      <td>1</td>\n",
              "      <td>2</td>\n",
              "      <td>1</td>\n",
              "      <td>2</td>\n",
              "      <td>1.0</td>\n",
              "      <td>2</td>\n",
              "      <td>2.0</td>\n",
              "      <td>1</td>\n",
              "      <td>2</td>\n",
              "      <td>0</td>\n",
              "    </tr>\n",
              "  </tbody>\n",
              "</table>\n",
              "</div>\n",
              "      <button class=\"colab-df-convert\" onclick=\"convertToInteractive('df-2f240ab3-c0ca-4528-bedf-1269e6f9da01')\"\n",
              "              title=\"Convert this dataframe to an interactive table.\"\n",
              "              style=\"display:none;\">\n",
              "        \n",
              "  <svg xmlns=\"http://www.w3.org/2000/svg\" height=\"24px\"viewBox=\"0 0 24 24\"\n",
              "       width=\"24px\">\n",
              "    <path d=\"M0 0h24v24H0V0z\" fill=\"none\"/>\n",
              "    <path d=\"M18.56 5.44l.94 2.06.94-2.06 2.06-.94-2.06-.94-.94-2.06-.94 2.06-2.06.94zm-11 1L8.5 8.5l.94-2.06 2.06-.94-2.06-.94L8.5 2.5l-.94 2.06-2.06.94zm10 10l.94 2.06.94-2.06 2.06-.94-2.06-.94-.94-2.06-.94 2.06-2.06.94z\"/><path d=\"M17.41 7.96l-1.37-1.37c-.4-.4-.92-.59-1.43-.59-.52 0-1.04.2-1.43.59L10.3 9.45l-7.72 7.72c-.78.78-.78 2.05 0 2.83L4 21.41c.39.39.9.59 1.41.59.51 0 1.02-.2 1.41-.59l7.78-7.78 2.81-2.81c.8-.78.8-2.07 0-2.86zM5.41 20L4 18.59l7.72-7.72 1.47 1.35L5.41 20z\"/>\n",
              "  </svg>\n",
              "      </button>\n",
              "      \n",
              "  <style>\n",
              "    .colab-df-container {\n",
              "      display:flex;\n",
              "      flex-wrap:wrap;\n",
              "      gap: 12px;\n",
              "    }\n",
              "\n",
              "    .colab-df-convert {\n",
              "      background-color: #E8F0FE;\n",
              "      border: none;\n",
              "      border-radius: 50%;\n",
              "      cursor: pointer;\n",
              "      display: none;\n",
              "      fill: #1967D2;\n",
              "      height: 32px;\n",
              "      padding: 0 0 0 0;\n",
              "      width: 32px;\n",
              "    }\n",
              "\n",
              "    .colab-df-convert:hover {\n",
              "      background-color: #E2EBFA;\n",
              "      box-shadow: 0px 1px 2px rgba(60, 64, 67, 0.3), 0px 1px 3px 1px rgba(60, 64, 67, 0.15);\n",
              "      fill: #174EA6;\n",
              "    }\n",
              "\n",
              "    [theme=dark] .colab-df-convert {\n",
              "      background-color: #3B4455;\n",
              "      fill: #D2E3FC;\n",
              "    }\n",
              "\n",
              "    [theme=dark] .colab-df-convert:hover {\n",
              "      background-color: #434B5C;\n",
              "      box-shadow: 0px 1px 3px 1px rgba(0, 0, 0, 0.15);\n",
              "      filter: drop-shadow(0px 1px 2px rgba(0, 0, 0, 0.3));\n",
              "      fill: #FFFFFF;\n",
              "    }\n",
              "  </style>\n",
              "\n",
              "      <script>\n",
              "        const buttonEl =\n",
              "          document.querySelector('#df-2f240ab3-c0ca-4528-bedf-1269e6f9da01 button.colab-df-convert');\n",
              "        buttonEl.style.display =\n",
              "          google.colab.kernel.accessAllowed ? 'block' : 'none';\n",
              "\n",
              "        async function convertToInteractive(key) {\n",
              "          const element = document.querySelector('#df-2f240ab3-c0ca-4528-bedf-1269e6f9da01');\n",
              "          const dataTable =\n",
              "            await google.colab.kernel.invokeFunction('convertToInteractive',\n",
              "                                                     [key], {});\n",
              "          if (!dataTable) return;\n",
              "\n",
              "          const docLinkHtml = 'Like what you see? Visit the ' +\n",
              "            '<a target=\"_blank\" href=https://colab.research.google.com/notebooks/data_table.ipynb>data table notebook</a>'\n",
              "            + ' to learn more about interactive tables.';\n",
              "          element.innerHTML = '';\n",
              "          dataTable['output_type'] = 'display_data';\n",
              "          await google.colab.output.renderOutput(dataTable, element);\n",
              "          const docLink = document.createElement('div');\n",
              "          docLink.innerHTML = docLinkHtml;\n",
              "          element.appendChild(docLink);\n",
              "        }\n",
              "      </script>\n",
              "    </div>\n",
              "  </div>\n",
              "  "
            ]
          },
          "metadata": {},
          "execution_count": 13
        }
      ],
      "source": [
        "data.head(3)"
      ]
    },
    {
      "cell_type": "code",
      "execution_count": null,
      "metadata": {
        "colab": {
          "base_uri": "https://localhost:8080/",
          "height": 630
        },
        "id": "d1ijbqDupaqQ",
        "outputId": "697f9939-0207-4e14-d8d7-78c321807ab8"
      },
      "outputs": [
        {
          "output_type": "execute_result",
          "data": {
            "text/plain": [
              "                         GENDER       AGE   SMOKING  YELLOW_FINGERS   ANXIETY  \\\n",
              "GENDER                 1.000000 -0.004608  0.035817       -0.209237 -0.152366   \n",
              "AGE                   -0.004608  1.000000 -0.081173        0.020509  0.049381   \n",
              "SMOKING                0.035817 -0.081173  1.000000       -0.005798  0.158769   \n",
              "YELLOW_FINGERS        -0.209237  0.020509 -0.005798        1.000000  0.560244   \n",
              "ANXIETY               -0.152366  0.049381  0.158769        0.560244  1.000000   \n",
              "PEER_PRESSURE         -0.251791  0.015333 -0.033039        0.303646  0.204195   \n",
              "CHRONIC DISEASE       -0.174333  0.003882 -0.148995        0.019942 -0.010944   \n",
              "FATIGUE               -0.096679  0.019525 -0.046238       -0.096273 -0.171539   \n",
              "ALLERGY                0.157025  0.043814 -0.033349       -0.153182 -0.174594   \n",
              "WHEEZING               0.128358  0.066250 -0.149047       -0.069369 -0.174964   \n",
              "ALCOHOL CONSUMING      0.433780  0.068142 -0.046870       -0.269632 -0.150287   \n",
              "COUGHING               0.120207  0.176078 -0.135327        0.013937 -0.212887   \n",
              "SHORTNESS OF BREATH   -0.066017 -0.005307  0.026542       -0.059911 -0.091203   \n",
              "SWALLOWING DIFFICULTY -0.051623  0.002695  0.050965        0.340615  0.492200   \n",
              "CHEST PAIN             0.369953 -0.031611  0.106582       -0.100567 -0.132709   \n",
              "LUNG_CANCER            0.054008  0.103493  0.040571        0.189400  0.149279   \n",
              "\n",
              "                       PEER_PRESSURE  CHRONIC DISEASE   FATIGUE   ALLERGY  \\\n",
              "GENDER                     -0.251791        -0.174333 -0.096679  0.157025   \n",
              "AGE                         0.015333         0.003882  0.019525  0.043814   \n",
              "SMOKING                    -0.033039        -0.148995 -0.046238 -0.033349   \n",
              "YELLOW_FINGERS              0.303646         0.019942 -0.096273 -0.153182   \n",
              "ANXIETY                     0.204195        -0.010944 -0.171539 -0.174594   \n",
              "PEER_PRESSURE               1.000000         0.041350  0.091020 -0.089487   \n",
              "CHRONIC DISEASE             0.041350         1.000000 -0.111614  0.142836   \n",
              "FATIGUE                     0.091020        -0.111614  1.000000 -0.016458   \n",
              "ALLERGY                    -0.089487         0.142836 -0.016458  1.000000   \n",
              "WHEEZING                   -0.061386        -0.042117  0.143649  0.173823   \n",
              "ALCOHOL CONSUMING          -0.145854        -0.004802 -0.201233  0.361249   \n",
              "COUGHING                   -0.090886        -0.166266  0.145638  0.205917   \n",
              "SHORTNESS OF BREATH        -0.188850        -0.020032  0.385815 -0.050569   \n",
              "SWALLOWING DIFFICULTY       0.320436         0.061628 -0.107662 -0.056584   \n",
              "CHEST PAIN                 -0.076642        -0.028404 -0.011144  0.258521   \n",
              "LUNG_CANCER                 0.165055         0.136961  0.155631  0.323267   \n",
              "\n",
              "                       WHEEZING  ALCOHOL CONSUMING  COUGHING  \\\n",
              "GENDER                 0.128358           0.433780  0.120207   \n",
              "AGE                    0.066250           0.068142  0.176078   \n",
              "SMOKING               -0.149047          -0.046870 -0.135327   \n",
              "YELLOW_FINGERS        -0.069369          -0.269632  0.013937   \n",
              "ANXIETY               -0.174964          -0.150287 -0.212887   \n",
              "PEER_PRESSURE         -0.061386          -0.145854 -0.090886   \n",
              "CHRONIC DISEASE       -0.042117          -0.004802 -0.166266   \n",
              "FATIGUE                0.143649          -0.201233  0.145638   \n",
              "ALLERGY                0.173823           0.361249  0.205917   \n",
              "WHEEZING               1.000000           0.259049  0.362092   \n",
              "ALCOHOL CONSUMING      0.259049           1.000000  0.210207   \n",
              "COUGHING               0.362092           0.210207  1.000000   \n",
              "SHORTNESS OF BREATH   -0.009770          -0.167134  0.249499   \n",
              "SWALLOWING DIFFICULTY  0.100352           0.004707 -0.132326   \n",
              "CHEST PAIN             0.143002           0.316002  0.072270   \n",
              "LUNG_CANCER            0.245975           0.281630  0.252385   \n",
              "\n",
              "                       SHORTNESS OF BREATH  SWALLOWING DIFFICULTY  CHEST PAIN  \\\n",
              "GENDER                           -0.066017              -0.051623    0.369953   \n",
              "AGE                              -0.005307               0.002695   -0.031611   \n",
              "SMOKING                           0.026542               0.050965    0.106582   \n",
              "YELLOW_FINGERS                   -0.059911               0.340615   -0.100567   \n",
              "ANXIETY                          -0.091203               0.492200   -0.132709   \n",
              "PEER_PRESSURE                    -0.188850               0.320436   -0.076642   \n",
              "CHRONIC DISEASE                  -0.020032               0.061628   -0.028404   \n",
              "FATIGUE                           0.385815              -0.107662   -0.011144   \n",
              "ALLERGY                          -0.050569              -0.056584    0.258521   \n",
              "WHEEZING                         -0.009770               0.100352    0.143002   \n",
              "ALCOHOL CONSUMING                -0.167134               0.004707    0.316002   \n",
              "COUGHING                          0.249499              -0.132326    0.072270   \n",
              "SHORTNESS OF BREATH               1.000000              -0.123026    0.011321   \n",
              "SWALLOWING DIFFICULTY            -0.123026               1.000000    0.086918   \n",
              "CHEST PAIN                        0.011321               0.086918    1.000000   \n",
              "LUNG_CANCER                       0.063362               0.272387    0.189375   \n",
              "\n",
              "                       LUNG_CANCER  \n",
              "GENDER                    0.054008  \n",
              "AGE                       0.103493  \n",
              "SMOKING                   0.040571  \n",
              "YELLOW_FINGERS            0.189400  \n",
              "ANXIETY                   0.149279  \n",
              "PEER_PRESSURE             0.165055  \n",
              "CHRONIC DISEASE           0.136961  \n",
              "FATIGUE                   0.155631  \n",
              "ALLERGY                   0.323267  \n",
              "WHEEZING                  0.245975  \n",
              "ALCOHOL CONSUMING         0.281630  \n",
              "COUGHING                  0.252385  \n",
              "SHORTNESS OF BREATH       0.063362  \n",
              "SWALLOWING DIFFICULTY     0.272387  \n",
              "CHEST PAIN                0.189375  \n",
              "LUNG_CANCER               1.000000  "
            ],
            "text/html": [
              "\n",
              "  <div id=\"df-f45a3826-a3fe-44f5-a1ec-8faa94d871a8\">\n",
              "    <div class=\"colab-df-container\">\n",
              "      <div>\n",
              "<style scoped>\n",
              "    .dataframe tbody tr th:only-of-type {\n",
              "        vertical-align: middle;\n",
              "    }\n",
              "\n",
              "    .dataframe tbody tr th {\n",
              "        vertical-align: top;\n",
              "    }\n",
              "\n",
              "    .dataframe thead th {\n",
              "        text-align: right;\n",
              "    }\n",
              "</style>\n",
              "<table border=\"1\" class=\"dataframe\">\n",
              "  <thead>\n",
              "    <tr style=\"text-align: right;\">\n",
              "      <th></th>\n",
              "      <th>GENDER</th>\n",
              "      <th>AGE</th>\n",
              "      <th>SMOKING</th>\n",
              "      <th>YELLOW_FINGERS</th>\n",
              "      <th>ANXIETY</th>\n",
              "      <th>PEER_PRESSURE</th>\n",
              "      <th>CHRONIC DISEASE</th>\n",
              "      <th>FATIGUE</th>\n",
              "      <th>ALLERGY</th>\n",
              "      <th>WHEEZING</th>\n",
              "      <th>ALCOHOL CONSUMING</th>\n",
              "      <th>COUGHING</th>\n",
              "      <th>SHORTNESS OF BREATH</th>\n",
              "      <th>SWALLOWING DIFFICULTY</th>\n",
              "      <th>CHEST PAIN</th>\n",
              "      <th>LUNG_CANCER</th>\n",
              "    </tr>\n",
              "  </thead>\n",
              "  <tbody>\n",
              "    <tr>\n",
              "      <th>GENDER</th>\n",
              "      <td>1.000000</td>\n",
              "      <td>-0.004608</td>\n",
              "      <td>0.035817</td>\n",
              "      <td>-0.209237</td>\n",
              "      <td>-0.152366</td>\n",
              "      <td>-0.251791</td>\n",
              "      <td>-0.174333</td>\n",
              "      <td>-0.096679</td>\n",
              "      <td>0.157025</td>\n",
              "      <td>0.128358</td>\n",
              "      <td>0.433780</td>\n",
              "      <td>0.120207</td>\n",
              "      <td>-0.066017</td>\n",
              "      <td>-0.051623</td>\n",
              "      <td>0.369953</td>\n",
              "      <td>0.054008</td>\n",
              "    </tr>\n",
              "    <tr>\n",
              "      <th>AGE</th>\n",
              "      <td>-0.004608</td>\n",
              "      <td>1.000000</td>\n",
              "      <td>-0.081173</td>\n",
              "      <td>0.020509</td>\n",
              "      <td>0.049381</td>\n",
              "      <td>0.015333</td>\n",
              "      <td>0.003882</td>\n",
              "      <td>0.019525</td>\n",
              "      <td>0.043814</td>\n",
              "      <td>0.066250</td>\n",
              "      <td>0.068142</td>\n",
              "      <td>0.176078</td>\n",
              "      <td>-0.005307</td>\n",
              "      <td>0.002695</td>\n",
              "      <td>-0.031611</td>\n",
              "      <td>0.103493</td>\n",
              "    </tr>\n",
              "    <tr>\n",
              "      <th>SMOKING</th>\n",
              "      <td>0.035817</td>\n",
              "      <td>-0.081173</td>\n",
              "      <td>1.000000</td>\n",
              "      <td>-0.005798</td>\n",
              "      <td>0.158769</td>\n",
              "      <td>-0.033039</td>\n",
              "      <td>-0.148995</td>\n",
              "      <td>-0.046238</td>\n",
              "      <td>-0.033349</td>\n",
              "      <td>-0.149047</td>\n",
              "      <td>-0.046870</td>\n",
              "      <td>-0.135327</td>\n",
              "      <td>0.026542</td>\n",
              "      <td>0.050965</td>\n",
              "      <td>0.106582</td>\n",
              "      <td>0.040571</td>\n",
              "    </tr>\n",
              "    <tr>\n",
              "      <th>YELLOW_FINGERS</th>\n",
              "      <td>-0.209237</td>\n",
              "      <td>0.020509</td>\n",
              "      <td>-0.005798</td>\n",
              "      <td>1.000000</td>\n",
              "      <td>0.560244</td>\n",
              "      <td>0.303646</td>\n",
              "      <td>0.019942</td>\n",
              "      <td>-0.096273</td>\n",
              "      <td>-0.153182</td>\n",
              "      <td>-0.069369</td>\n",
              "      <td>-0.269632</td>\n",
              "      <td>0.013937</td>\n",
              "      <td>-0.059911</td>\n",
              "      <td>0.340615</td>\n",
              "      <td>-0.100567</td>\n",
              "      <td>0.189400</td>\n",
              "    </tr>\n",
              "    <tr>\n",
              "      <th>ANXIETY</th>\n",
              "      <td>-0.152366</td>\n",
              "      <td>0.049381</td>\n",
              "      <td>0.158769</td>\n",
              "      <td>0.560244</td>\n",
              "      <td>1.000000</td>\n",
              "      <td>0.204195</td>\n",
              "      <td>-0.010944</td>\n",
              "      <td>-0.171539</td>\n",
              "      <td>-0.174594</td>\n",
              "      <td>-0.174964</td>\n",
              "      <td>-0.150287</td>\n",
              "      <td>-0.212887</td>\n",
              "      <td>-0.091203</td>\n",
              "      <td>0.492200</td>\n",
              "      <td>-0.132709</td>\n",
              "      <td>0.149279</td>\n",
              "    </tr>\n",
              "    <tr>\n",
              "      <th>PEER_PRESSURE</th>\n",
              "      <td>-0.251791</td>\n",
              "      <td>0.015333</td>\n",
              "      <td>-0.033039</td>\n",
              "      <td>0.303646</td>\n",
              "      <td>0.204195</td>\n",
              "      <td>1.000000</td>\n",
              "      <td>0.041350</td>\n",
              "      <td>0.091020</td>\n",
              "      <td>-0.089487</td>\n",
              "      <td>-0.061386</td>\n",
              "      <td>-0.145854</td>\n",
              "      <td>-0.090886</td>\n",
              "      <td>-0.188850</td>\n",
              "      <td>0.320436</td>\n",
              "      <td>-0.076642</td>\n",
              "      <td>0.165055</td>\n",
              "    </tr>\n",
              "    <tr>\n",
              "      <th>CHRONIC DISEASE</th>\n",
              "      <td>-0.174333</td>\n",
              "      <td>0.003882</td>\n",
              "      <td>-0.148995</td>\n",
              "      <td>0.019942</td>\n",
              "      <td>-0.010944</td>\n",
              "      <td>0.041350</td>\n",
              "      <td>1.000000</td>\n",
              "      <td>-0.111614</td>\n",
              "      <td>0.142836</td>\n",
              "      <td>-0.042117</td>\n",
              "      <td>-0.004802</td>\n",
              "      <td>-0.166266</td>\n",
              "      <td>-0.020032</td>\n",
              "      <td>0.061628</td>\n",
              "      <td>-0.028404</td>\n",
              "      <td>0.136961</td>\n",
              "    </tr>\n",
              "    <tr>\n",
              "      <th>FATIGUE</th>\n",
              "      <td>-0.096679</td>\n",
              "      <td>0.019525</td>\n",
              "      <td>-0.046238</td>\n",
              "      <td>-0.096273</td>\n",
              "      <td>-0.171539</td>\n",
              "      <td>0.091020</td>\n",
              "      <td>-0.111614</td>\n",
              "      <td>1.000000</td>\n",
              "      <td>-0.016458</td>\n",
              "      <td>0.143649</td>\n",
              "      <td>-0.201233</td>\n",
              "      <td>0.145638</td>\n",
              "      <td>0.385815</td>\n",
              "      <td>-0.107662</td>\n",
              "      <td>-0.011144</td>\n",
              "      <td>0.155631</td>\n",
              "    </tr>\n",
              "    <tr>\n",
              "      <th>ALLERGY</th>\n",
              "      <td>0.157025</td>\n",
              "      <td>0.043814</td>\n",
              "      <td>-0.033349</td>\n",
              "      <td>-0.153182</td>\n",
              "      <td>-0.174594</td>\n",
              "      <td>-0.089487</td>\n",
              "      <td>0.142836</td>\n",
              "      <td>-0.016458</td>\n",
              "      <td>1.000000</td>\n",
              "      <td>0.173823</td>\n",
              "      <td>0.361249</td>\n",
              "      <td>0.205917</td>\n",
              "      <td>-0.050569</td>\n",
              "      <td>-0.056584</td>\n",
              "      <td>0.258521</td>\n",
              "      <td>0.323267</td>\n",
              "    </tr>\n",
              "    <tr>\n",
              "      <th>WHEEZING</th>\n",
              "      <td>0.128358</td>\n",
              "      <td>0.066250</td>\n",
              "      <td>-0.149047</td>\n",
              "      <td>-0.069369</td>\n",
              "      <td>-0.174964</td>\n",
              "      <td>-0.061386</td>\n",
              "      <td>-0.042117</td>\n",
              "      <td>0.143649</td>\n",
              "      <td>0.173823</td>\n",
              "      <td>1.000000</td>\n",
              "      <td>0.259049</td>\n",
              "      <td>0.362092</td>\n",
              "      <td>-0.009770</td>\n",
              "      <td>0.100352</td>\n",
              "      <td>0.143002</td>\n",
              "      <td>0.245975</td>\n",
              "    </tr>\n",
              "    <tr>\n",
              "      <th>ALCOHOL CONSUMING</th>\n",
              "      <td>0.433780</td>\n",
              "      <td>0.068142</td>\n",
              "      <td>-0.046870</td>\n",
              "      <td>-0.269632</td>\n",
              "      <td>-0.150287</td>\n",
              "      <td>-0.145854</td>\n",
              "      <td>-0.004802</td>\n",
              "      <td>-0.201233</td>\n",
              "      <td>0.361249</td>\n",
              "      <td>0.259049</td>\n",
              "      <td>1.000000</td>\n",
              "      <td>0.210207</td>\n",
              "      <td>-0.167134</td>\n",
              "      <td>0.004707</td>\n",
              "      <td>0.316002</td>\n",
              "      <td>0.281630</td>\n",
              "    </tr>\n",
              "    <tr>\n",
              "      <th>COUGHING</th>\n",
              "      <td>0.120207</td>\n",
              "      <td>0.176078</td>\n",
              "      <td>-0.135327</td>\n",
              "      <td>0.013937</td>\n",
              "      <td>-0.212887</td>\n",
              "      <td>-0.090886</td>\n",
              "      <td>-0.166266</td>\n",
              "      <td>0.145638</td>\n",
              "      <td>0.205917</td>\n",
              "      <td>0.362092</td>\n",
              "      <td>0.210207</td>\n",
              "      <td>1.000000</td>\n",
              "      <td>0.249499</td>\n",
              "      <td>-0.132326</td>\n",
              "      <td>0.072270</td>\n",
              "      <td>0.252385</td>\n",
              "    </tr>\n",
              "    <tr>\n",
              "      <th>SHORTNESS OF BREATH</th>\n",
              "      <td>-0.066017</td>\n",
              "      <td>-0.005307</td>\n",
              "      <td>0.026542</td>\n",
              "      <td>-0.059911</td>\n",
              "      <td>-0.091203</td>\n",
              "      <td>-0.188850</td>\n",
              "      <td>-0.020032</td>\n",
              "      <td>0.385815</td>\n",
              "      <td>-0.050569</td>\n",
              "      <td>-0.009770</td>\n",
              "      <td>-0.167134</td>\n",
              "      <td>0.249499</td>\n",
              "      <td>1.000000</td>\n",
              "      <td>-0.123026</td>\n",
              "      <td>0.011321</td>\n",
              "      <td>0.063362</td>\n",
              "    </tr>\n",
              "    <tr>\n",
              "      <th>SWALLOWING DIFFICULTY</th>\n",
              "      <td>-0.051623</td>\n",
              "      <td>0.002695</td>\n",
              "      <td>0.050965</td>\n",
              "      <td>0.340615</td>\n",
              "      <td>0.492200</td>\n",
              "      <td>0.320436</td>\n",
              "      <td>0.061628</td>\n",
              "      <td>-0.107662</td>\n",
              "      <td>-0.056584</td>\n",
              "      <td>0.100352</td>\n",
              "      <td>0.004707</td>\n",
              "      <td>-0.132326</td>\n",
              "      <td>-0.123026</td>\n",
              "      <td>1.000000</td>\n",
              "      <td>0.086918</td>\n",
              "      <td>0.272387</td>\n",
              "    </tr>\n",
              "    <tr>\n",
              "      <th>CHEST PAIN</th>\n",
              "      <td>0.369953</td>\n",
              "      <td>-0.031611</td>\n",
              "      <td>0.106582</td>\n",
              "      <td>-0.100567</td>\n",
              "      <td>-0.132709</td>\n",
              "      <td>-0.076642</td>\n",
              "      <td>-0.028404</td>\n",
              "      <td>-0.011144</td>\n",
              "      <td>0.258521</td>\n",
              "      <td>0.143002</td>\n",
              "      <td>0.316002</td>\n",
              "      <td>0.072270</td>\n",
              "      <td>0.011321</td>\n",
              "      <td>0.086918</td>\n",
              "      <td>1.000000</td>\n",
              "      <td>0.189375</td>\n",
              "    </tr>\n",
              "    <tr>\n",
              "      <th>LUNG_CANCER</th>\n",
              "      <td>0.054008</td>\n",
              "      <td>0.103493</td>\n",
              "      <td>0.040571</td>\n",
              "      <td>0.189400</td>\n",
              "      <td>0.149279</td>\n",
              "      <td>0.165055</td>\n",
              "      <td>0.136961</td>\n",
              "      <td>0.155631</td>\n",
              "      <td>0.323267</td>\n",
              "      <td>0.245975</td>\n",
              "      <td>0.281630</td>\n",
              "      <td>0.252385</td>\n",
              "      <td>0.063362</td>\n",
              "      <td>0.272387</td>\n",
              "      <td>0.189375</td>\n",
              "      <td>1.000000</td>\n",
              "    </tr>\n",
              "  </tbody>\n",
              "</table>\n",
              "</div>\n",
              "      <button class=\"colab-df-convert\" onclick=\"convertToInteractive('df-f45a3826-a3fe-44f5-a1ec-8faa94d871a8')\"\n",
              "              title=\"Convert this dataframe to an interactive table.\"\n",
              "              style=\"display:none;\">\n",
              "        \n",
              "  <svg xmlns=\"http://www.w3.org/2000/svg\" height=\"24px\"viewBox=\"0 0 24 24\"\n",
              "       width=\"24px\">\n",
              "    <path d=\"M0 0h24v24H0V0z\" fill=\"none\"/>\n",
              "    <path d=\"M18.56 5.44l.94 2.06.94-2.06 2.06-.94-2.06-.94-.94-2.06-.94 2.06-2.06.94zm-11 1L8.5 8.5l.94-2.06 2.06-.94-2.06-.94L8.5 2.5l-.94 2.06-2.06.94zm10 10l.94 2.06.94-2.06 2.06-.94-2.06-.94-.94-2.06-.94 2.06-2.06.94z\"/><path d=\"M17.41 7.96l-1.37-1.37c-.4-.4-.92-.59-1.43-.59-.52 0-1.04.2-1.43.59L10.3 9.45l-7.72 7.72c-.78.78-.78 2.05 0 2.83L4 21.41c.39.39.9.59 1.41.59.51 0 1.02-.2 1.41-.59l7.78-7.78 2.81-2.81c.8-.78.8-2.07 0-2.86zM5.41 20L4 18.59l7.72-7.72 1.47 1.35L5.41 20z\"/>\n",
              "  </svg>\n",
              "      </button>\n",
              "      \n",
              "  <style>\n",
              "    .colab-df-container {\n",
              "      display:flex;\n",
              "      flex-wrap:wrap;\n",
              "      gap: 12px;\n",
              "    }\n",
              "\n",
              "    .colab-df-convert {\n",
              "      background-color: #E8F0FE;\n",
              "      border: none;\n",
              "      border-radius: 50%;\n",
              "      cursor: pointer;\n",
              "      display: none;\n",
              "      fill: #1967D2;\n",
              "      height: 32px;\n",
              "      padding: 0 0 0 0;\n",
              "      width: 32px;\n",
              "    }\n",
              "\n",
              "    .colab-df-convert:hover {\n",
              "      background-color: #E2EBFA;\n",
              "      box-shadow: 0px 1px 2px rgba(60, 64, 67, 0.3), 0px 1px 3px 1px rgba(60, 64, 67, 0.15);\n",
              "      fill: #174EA6;\n",
              "    }\n",
              "\n",
              "    [theme=dark] .colab-df-convert {\n",
              "      background-color: #3B4455;\n",
              "      fill: #D2E3FC;\n",
              "    }\n",
              "\n",
              "    [theme=dark] .colab-df-convert:hover {\n",
              "      background-color: #434B5C;\n",
              "      box-shadow: 0px 1px 3px 1px rgba(0, 0, 0, 0.15);\n",
              "      filter: drop-shadow(0px 1px 2px rgba(0, 0, 0, 0.3));\n",
              "      fill: #FFFFFF;\n",
              "    }\n",
              "  </style>\n",
              "\n",
              "      <script>\n",
              "        const buttonEl =\n",
              "          document.querySelector('#df-f45a3826-a3fe-44f5-a1ec-8faa94d871a8 button.colab-df-convert');\n",
              "        buttonEl.style.display =\n",
              "          google.colab.kernel.accessAllowed ? 'block' : 'none';\n",
              "\n",
              "        async function convertToInteractive(key) {\n",
              "          const element = document.querySelector('#df-f45a3826-a3fe-44f5-a1ec-8faa94d871a8');\n",
              "          const dataTable =\n",
              "            await google.colab.kernel.invokeFunction('convertToInteractive',\n",
              "                                                     [key], {});\n",
              "          if (!dataTable) return;\n",
              "\n",
              "          const docLinkHtml = 'Like what you see? Visit the ' +\n",
              "            '<a target=\"_blank\" href=https://colab.research.google.com/notebooks/data_table.ipynb>data table notebook</a>'\n",
              "            + ' to learn more about interactive tables.';\n",
              "          element.innerHTML = '';\n",
              "          dataTable['output_type'] = 'display_data';\n",
              "          await google.colab.output.renderOutput(dataTable, element);\n",
              "          const docLink = document.createElement('div');\n",
              "          docLink.innerHTML = docLinkHtml;\n",
              "          element.appendChild(docLink);\n",
              "        }\n",
              "      </script>\n",
              "    </div>\n",
              "  </div>\n",
              "  "
            ]
          },
          "metadata": {},
          "execution_count": 14
        }
      ],
      "source": [
        "#Feature Selection\n",
        "data_corr = data.corr()\n",
        "data_corr"
      ]
    },
    {
      "cell_type": "code",
      "execution_count": null,
      "metadata": {
        "colab": {
          "base_uri": "https://localhost:8080/",
          "height": 404
        },
        "id": "OpHeMEokpqzg",
        "outputId": "009555c1-cb1c-4baf-9bf0-17d2a582af53"
      },
      "outputs": [
        {
          "output_type": "execute_result",
          "data": {
            "text/plain": [
              "<matplotlib.axes._subplots.AxesSubplot at 0x7fe3c1d6e350>"
            ]
          },
          "metadata": {},
          "execution_count": 15
        },
        {
          "output_type": "display_data",
          "data": {
            "text/plain": [
              "<Figure size 432x288 with 2 Axes>"
            ],
            "image/png": "[encoded data removed]"
          },
          "metadata": {
            "needs_background": "light"
          }
        }
      ],
      "source": [
        "sns.heatmap(data_corr, cmap = 'YlGnBu')"
      ]
    },
    {
      "cell_type": "code",
      "execution_count": null,
      "metadata": {
        "id": "ubnQ9vnhWdwh"
      },
      "outputs": [],
      "source": [
        "import matplotlib.pyplot as plt\n",
        "import sklearn.metrics as metrics\n",
        "from sklearn.model_selection import train_test_split\n",
        "from seaborn import heatmap\n",
        "from sklearn.metrics import classification_report, confusion_matrix\n",
        "from sklearn.preprocessing import StandardScaler"
      ]
    },
    {
      "cell_type": "code",
      "execution_count": null,
      "metadata": {
        "id": "M8G8ZMrxWVpK"
      },
      "outputs": [],
      "source": [
        "#Data splitting\n",
        "x = data.drop('LUNG_CANCER', axis=1)\n",
        "y = data['LUNG_CANCER']\n",
        "x_train, x_test, y_train, y_test= train_test_split(x, y, test_size= 0.2, random_state=42)\n"
      ]
    },
    {
      "cell_type": "code",
      "source": [
        "#feature scaling\n",
        "from sklearn.preprocessing import MinMaxScaler\n",
        "scaler= MinMaxScaler()\n",
        "scaler.fit(x_train)\n",
        "x_train = scaler.transform(x_train)\n",
        "x_test = scaler.transform(x_test)"
      ],
      "metadata": {
        "id": "8I1mp9ekjUxf"
      },
      "execution_count": null,
      "outputs": []
    },
    {
      "cell_type": "code",
      "execution_count": null,
      "metadata": {
        "id": "2tTc-b1dCh5k"
      },
      "outputs": [],
      "source": [
        "from sklearn.linear_model import LogisticRegression\n",
        "from sklearn.tree import DecisionTreeClassifier\n",
        "from sklearn.neighbors import KNeighborsClassifier\n",
        "from sklearn.naive_bayes import GaussianNB\n",
        "from sklearn.ensemble import RandomForestClassifier\n",
        "from sklearn.metrics import roc_curve"
      ]
    },
    {
      "cell_type": "code",
      "execution_count": null,
      "metadata": {
        "id": "evzoSeFCeUDs"
      },
      "outputs": [],
      "source": [
        "acc = []\n",
        "f1 = []\n",
        "precision = []\n",
        "recall = []"
      ]
    },
    {
      "cell_type": "code",
      "source": [
        "def storeMetrics(array):\n",
        "  acc.append(metrics.accuracy_score(y_test, array))\n",
        "  f1.append(metrics.f1_score(y_test, array))\n",
        "  precision.append(metrics.precision_score(y_test, array))\n",
        "  recall.append(metrics.recall_score(y_test, array))\n"
      ],
      "metadata": {
        "id": "2o5YGcKeFQGg"
      },
      "execution_count": null,
      "outputs": []
    },
    {
      "cell_type": "code",
      "source": [
        "def score(model):\n",
        "  print(\"The Training accuracy of the model is {:.2f}\".format(model.score(x_train, y_train)))\n",
        "  print(\"The Testing accuracy of the model is {:.2f}\".format(model.score(x_test, y_test)))"
      ],
      "metadata": {
        "id": "Zb3Wz1vWGJsI"
      },
      "execution_count": null,
      "outputs": []
    },
    {
      "cell_type": "code",
      "source": [
        "def rocCurve(model):\n",
        "  model_pred_prob = model.predict_proba(x_test)[::,1]\n",
        "  fpr, tpr, _ = roc_curve(y_test,  model_pred_prob)\n",
        "  auc = metrics.roc_auc_score(y_test, model_pred_prob)\n",
        "  plt.plot(fpr,tpr,label=\"AUC=\"+str(auc))\n",
        "  plt.ylabel('True Positive Rate')\n",
        "  plt.xlabel('False Positive Rate')\n",
        "  plt.legend(loc=4)\n",
        "  plt.show()"
      ],
      "metadata": {
        "id": "eigsT680Gu1J"
      },
      "execution_count": null,
      "outputs": []
    },
    {
      "cell_type": "markdown",
      "metadata": {
        "id": "LQz8g-BDs6qh"
      },
      "source": [
        "## Logistic Regression"
      ]
    },
    {
      "cell_type": "code",
      "execution_count": null,
      "metadata": {
        "id": "zAcaDZKTO8Iq"
      },
      "outputs": [],
      "source": [
        "lr=LogisticRegression()\n",
        "lr.fit(x_train, y_train)\n",
        "lr_pred = lr.predict(x_test)\n",
        "storeMetrics(lr_pred)"
      ]
    },
    {
      "cell_type": "code",
      "execution_count": null,
      "metadata": {
        "colab": {
          "base_uri": "https://localhost:8080/"
        },
        "id": "-RUA6gWBD3yK",
        "outputId": "ad73a1d3-eaee-48eb-ab59-6ef2106ee140"
      },
      "outputs": [
        {
          "output_type": "stream",
          "name": "stdout",
          "text": [
            "The Training accuracy of the model is 0.92\n",
            "The Testing accuracy of the model is 0.93\n"
          ]
        }
      ],
      "source": [
        "score(lr)"
      ]
    },
    {
      "cell_type": "code",
      "execution_count": null,
      "metadata": {
        "id": "g6bnLkJ0G6XU"
      },
      "outputs": [],
      "source": [
        "mat=confusion_matrix(lr_pred, y_test)"
      ]
    },
    {
      "cell_type": "code",
      "execution_count": null,
      "metadata": {
        "colab": {
          "base_uri": "https://localhost:8080/",
          "height": 287
        },
        "id": "8nV-kFDZuDAJ",
        "outputId": "b47c0008-3391-4417-b854-6aa272128605"
      },
      "outputs": [
        {
          "output_type": "execute_result",
          "data": {
            "text/plain": [
              "<matplotlib.axes._subplots.AxesSubplot at 0x7fe3beaae810>"
            ]
          },
          "metadata": {},
          "execution_count": 27
        },
        {
          "output_type": "display_data",
          "data": {
            "text/plain": [
              "<Figure size 432x288 with 2 Axes>"
            ],
            "image/png": "[encoded data removed]"
          },
          "metadata": {
            "needs_background": "light"
          }
        }
      ],
      "source": [
        "heatmap(mat , cmap=\"Pastel1_r\", xticklabels=['class_0' ,'class_1'], yticklabels=['class_0' ,'class_1'], annot=True)"
      ]
    },
    {
      "cell_type": "code",
      "source": [
        "rocCurve(lr)"
      ],
      "metadata": {
        "colab": {
          "base_uri": "https://localhost:8080/",
          "height": 279
        },
        "id": "p7_Kd1JLClE4",
        "outputId": "17bc49f2-4d05-466f-8f11-bde47b138c79"
      },
      "execution_count": null,
      "outputs": [
        {
          "output_type": "display_data",
          "data": {
            "text/plain": [
              "<Figure size 432x288 with 1 Axes>"
            ],
            "image/png": "[encoded data removed]"
          },
          "metadata": {
            "needs_background": "light"
          }
        }
      ]
    },
    {
      "cell_type": "markdown",
      "metadata": {
        "id": "HLLDbSq2xcyY"
      },
      "source": [
        "## KNN"
      ]
    },
    {
      "cell_type": "code",
      "execution_count": null,
      "metadata": {
        "id": "Elpg03fKxijf"
      },
      "outputs": [],
      "source": [
        "knn = KNeighborsClassifier(n_neighbors=2)\n",
        "knn.fit(x_train, y_train)\n",
        "knn_pred = knn.predict(x_test)\n",
        "storeMetrics(knn_pred)"
      ]
    },
    {
      "cell_type": "code",
      "execution_count": null,
      "metadata": {
        "colab": {
          "base_uri": "https://localhost:8080/"
        },
        "id": "FgonZ-JSEtC0",
        "outputId": "17dc2cd6-7e98-4388-e5b8-1a20e4da94eb"
      },
      "outputs": [
        {
          "output_type": "stream",
          "name": "stdout",
          "text": [
            "The Training accuracy of the model is 0.91\n",
            "The Testing accuracy of the model is 0.95\n"
          ]
        }
      ],
      "source": [
        "score(knn)"
      ]
    },
    {
      "cell_type": "code",
      "execution_count": null,
      "metadata": {
        "id": "I2t0W8LtHJXF"
      },
      "outputs": [],
      "source": [
        "mat1=confusion_matrix(knn_pred, y_test)"
      ]
    },
    {
      "cell_type": "code",
      "execution_count": null,
      "metadata": {
        "colab": {
          "base_uri": "https://localhost:8080/",
          "height": 283
        },
        "id": "zs7deGaVuTT6",
        "outputId": "b8a7d723-b9ae-4965-93a8-f4d01d48b699"
      },
      "outputs": [
        {
          "output_type": "execute_result",
          "data": {
            "text/plain": [
              "<matplotlib.axes._subplots.AxesSubplot at 0x7fe3be9cb950>"
            ]
          },
          "metadata": {},
          "execution_count": 32
        },
        {
          "output_type": "display_data",
          "data": {
            "text/plain": [
              "<Figure size 432x288 with 2 Axes>"
            ],
            "image/png": "[encoded data removed]"
          },
          "metadata": {
            "needs_background": "light"
          }
        }
      ],
      "source": [
        "heatmap(mat1 , cmap=\"Pastel1_r\", xticklabels=['class_0' ,'class_1'], yticklabels=['class_0' ,'class_1'], annot=True)"
      ]
    },
    {
      "cell_type": "code",
      "source": [
        "rocCurve(knn)"
      ],
      "metadata": {
        "colab": {
          "base_uri": "https://localhost:8080/",
          "height": 279
        },
        "id": "mpakCzzqERgA",
        "outputId": "35c887c5-c880-49b2-9312-6cf36484daee"
      },
      "execution_count": null,
      "outputs": [
        {
          "output_type": "display_data",
          "data": {
            "text/plain": [
              "<Figure size 432x288 with 1 Axes>"
            ],
            "image/png": "[encoded data removed]"
          },
          "metadata": {
            "needs_background": "light"
          }
        }
      ]
    },
    {
      "cell_type": "markdown",
      "metadata": {
        "id": "y4vq2L9CA5gq"
      },
      "source": [
        "## Naive Bayes"
      ]
    },
    {
      "cell_type": "code",
      "execution_count": null,
      "metadata": {
        "id": "XRKWe2zx2qbB"
      },
      "outputs": [],
      "source": [
        "gnb = GaussianNB()\n",
        "gnb.fit(x_train, y_train)\n",
        "gnb_pred = gnb.predict(x_test)\n",
        "storeMetrics(gnb_pred)\n"
      ]
    },
    {
      "cell_type": "code",
      "execution_count": null,
      "metadata": {
        "colab": {
          "base_uri": "https://localhost:8080/"
        },
        "id": "H266ciefEyWT",
        "outputId": "ca72e710-d30f-4841-e2bc-dac5ef2290fb"
      },
      "outputs": [
        {
          "output_type": "stream",
          "name": "stdout",
          "text": [
            "The Training accuracy of the model is 0.91\n",
            "The Testing accuracy of the model is 0.89\n"
          ]
        }
      ],
      "source": [
        "score(gnb)"
      ]
    },
    {
      "cell_type": "code",
      "execution_count": null,
      "metadata": {
        "id": "APLFY2ukHVsD"
      },
      "outputs": [],
      "source": [
        "mat2=confusion_matrix(gnb_pred, y_test)"
      ]
    },
    {
      "cell_type": "code",
      "execution_count": null,
      "metadata": {
        "colab": {
          "base_uri": "https://localhost:8080/",
          "height": 283
        },
        "id": "EfrWUa8quXT8",
        "outputId": "8114349b-85e3-4139-fee1-135050f7ff93"
      },
      "outputs": [
        {
          "output_type": "execute_result",
          "data": {
            "text/plain": [
              "<matplotlib.axes._subplots.AxesSubplot at 0x7fe3be8e5290>"
            ]
          },
          "metadata": {},
          "execution_count": 37
        },
        {
          "output_type": "display_data",
          "data": {
            "text/plain": [
              "<Figure size 432x288 with 2 Axes>"
            ],
            "image/png": "[encoded data removed]"
          },
          "metadata": {
            "needs_background": "light"
          }
        }
      ],
      "source": [
        "heatmap(mat2 , cmap=\"Pastel1_r\", xticklabels=['class_0' ,'class_1'], yticklabels=['class_0' ,'class_1'], annot=True)"
      ]
    },
    {
      "cell_type": "code",
      "source": [
        "rocCurve(gnb)"
      ],
      "metadata": {
        "colab": {
          "base_uri": "https://localhost:8080/",
          "height": 279
        },
        "id": "9hUm-xhdHJ3Q",
        "outputId": "2e5081c4-19b9-491c-9eca-fbf7b685007c"
      },
      "execution_count": null,
      "outputs": [
        {
          "output_type": "display_data",
          "data": {
            "text/plain": [
              "<Figure size 432x288 with 1 Axes>"
            ],
            "image/png": "[encoded data removed]"
          },
          "metadata": {
            "needs_background": "light"
          }
        }
      ]
    },
    {
      "cell_type": "markdown",
      "metadata": {
        "id": "UReoln7-CIVL"
      },
      "source": [
        "## Random Forest"
      ]
    },
    {
      "cell_type": "code",
      "execution_count": null,
      "metadata": {
        "id": "vuDF-cPoCKyS"
      },
      "outputs": [],
      "source": [
        "rf = RandomForestClassifier()\n",
        "rf.fit(x_train,y_train)\n",
        "rf_pred = rf.predict(x_test)\n",
        "storeMetrics(rf_pred)"
      ]
    },
    {
      "cell_type": "code",
      "execution_count": null,
      "metadata": {
        "colab": {
          "base_uri": "https://localhost:8080/"
        },
        "id": "agPZ0Jl1FAcS",
        "outputId": "80a74b46-20e3-40d9-d51d-24934a13a570"
      },
      "outputs": [
        {
          "output_type": "stream",
          "name": "stdout",
          "text": [
            "The Training accuracy of the model is 1.00\n",
            "The Testing accuracy of the model is 0.95\n"
          ]
        }
      ],
      "source": [
        "score(rf)"
      ]
    },
    {
      "cell_type": "code",
      "execution_count": null,
      "metadata": {
        "id": "0vTJtg09HeG8"
      },
      "outputs": [],
      "source": [
        "mat4=confusion_matrix(rf_pred, y_test)"
      ]
    },
    {
      "cell_type": "code",
      "execution_count": null,
      "metadata": {
        "colab": {
          "base_uri": "https://localhost:8080/",
          "height": 287
        },
        "id": "4V0NRWZ-u0um",
        "outputId": "b6e39ebd-cc88-46d0-d850-67db1a31e604"
      },
      "outputs": [
        {
          "output_type": "execute_result",
          "data": {
            "text/plain": [
              "<matplotlib.axes._subplots.AxesSubplot at 0x7fe3be786390>"
            ]
          },
          "metadata": {},
          "execution_count": 42
        },
        {
          "output_type": "display_data",
          "data": {
            "text/plain": [
              "<Figure size 432x288 with 2 Axes>"
            ],
            "image/png": "[encoded data removed]"
          },
          "metadata": {
            "needs_background": "light"
          }
        }
      ],
      "source": [
        "heatmap(mat4 , cmap=\"Pastel1_r\", xticklabels=['class_0' ,'class_1'], yticklabels=['class_0' ,'class_1'], annot=True)"
      ]
    },
    {
      "cell_type": "code",
      "source": [
        "rocCurve(rf)"
      ],
      "metadata": {
        "colab": {
          "base_uri": "https://localhost:8080/",
          "height": 279
        },
        "id": "4HkCdCjmHN2I",
        "outputId": "9de645f1-d81a-4fb4-c384-a38c5a08eb57"
      },
      "execution_count": null,
      "outputs": [
        {
          "output_type": "display_data",
          "data": {
            "text/plain": [
              "<Figure size 432x288 with 1 Axes>"
            ],
            "image/png": "[encoded data removed]"
          },
          "metadata": {
            "needs_background": "light"
          }
        }
      ]
    },
    {
      "cell_type": "markdown",
      "metadata": {
        "id": "qh8aoQLqIkZA"
      },
      "source": [
        "## Comparison"
      ]
    },
    {
      "cell_type": "code",
      "source": [
        "from IPython.display import display\n",
        "dict = {'Model' : ['Logistic Regression', 'KNN', 'Naive Bayes', 'Random Forest'],\n",
        "        'Accuracy Score' : acc,\n",
        "        'F1 Score' : f1,\n",
        "        'Precision Score': precision,\n",
        "        'Recall Score': recall}\n",
        "df = pd.DataFrame(dict)\n",
        "df = df.round(2)\n",
        "display(df)"
      ],
      "metadata": {
        "colab": {
          "base_uri": "https://localhost:8080/",
          "height": 175
        },
        "id": "_WR1kZw1sVJf",
        "outputId": "e462e62a-93b5-4e99-ffd0-7b095c029921"
      },
      "execution_count": null,
      "outputs": [
        {
          "output_type": "display_data",
          "data": {
            "text/plain": [
              "                 Model  Accuracy Score  F1 Score  Precision Score  \\\n",
              "0  Logistic Regression            0.93      0.96             0.94   \n",
              "1                  KNN            0.95      0.97             1.00   \n",
              "2          Naive Bayes            0.89      0.94             0.92   \n",
              "3        Random Forest            0.95      0.97             0.96   \n",
              "\n",
              "   Recall Score  \n",
              "0          0.98  \n",
              "1          0.94  \n",
              "2          0.96  \n",
              "3          0.98  "
            ],
            "text/html": [
              "\n",
              "  <div id=\"df-390be50b-830a-4049-bf8a-fce7ca87fa0f\">\n",
              "    <div class=\"colab-df-container\">\n",
              "      <div>\n",
              "<style scoped>\n",
              "    .dataframe tbody tr th:only-of-type {\n",
              "        vertical-align: middle;\n",
              "    }\n",
              "\n",
              "    .dataframe tbody tr th {\n",
              "        vertical-align: top;\n",
              "    }\n",
              "\n",
              "    .dataframe thead th {\n",
              "        text-align: right;\n",
              "    }\n",
              "</style>\n",
              "<table border=\"1\" class=\"dataframe\">\n",
              "  <thead>\n",
              "    <tr style=\"text-align: right;\">\n",
              "      <th></th>\n",
              "      <th>Model</th>\n",
              "      <th>Accuracy Score</th>\n",
              "      <th>F1 Score</th>\n",
              "      <th>Precision Score</th>\n",
              "      <th>Recall Score</th>\n",
              "    </tr>\n",
              "  </thead>\n",
              "  <tbody>\n",
              "    <tr>\n",
              "      <th>0</th>\n",
              "      <td>Logistic Regression</td>\n",
              "      <td>0.93</td>\n",
              "      <td>0.96</td>\n",
              "      <td>0.94</td>\n",
              "      <td>0.98</td>\n",
              "    </tr>\n",
              "    <tr>\n",
              "      <th>1</th>\n",
              "      <td>KNN</td>\n",
              "      <td>0.95</td>\n",
              "      <td>0.97</td>\n",
              "      <td>1.00</td>\n",
              "      <td>0.94</td>\n",
              "    </tr>\n",
              "    <tr>\n",
              "      <th>2</th>\n",
              "      <td>Naive Bayes</td>\n",
              "      <td>0.89</td>\n",
              "      <td>0.94</td>\n",
              "      <td>0.92</td>\n",
              "      <td>0.96</td>\n",
              "    </tr>\n",
              "    <tr>\n",
              "      <th>3</th>\n",
              "      <td>Random Forest</td>\n",
              "      <td>0.95</td>\n",
              "      <td>0.97</td>\n",
              "      <td>0.96</td>\n",
              "      <td>0.98</td>\n",
              "    </tr>\n",
              "  </tbody>\n",
              "</table>\n",
              "</div>\n",
              "      <button class=\"colab-df-convert\" onclick=\"convertToInteractive('df-390be50b-830a-4049-bf8a-fce7ca87fa0f')\"\n",
              "              title=\"Convert this dataframe to an interactive table.\"\n",
              "              style=\"display:none;\">\n",
              "        \n",
              "  <svg xmlns=\"http://www.w3.org/2000/svg\" height=\"24px\"viewBox=\"0 0 24 24\"\n",
              "       width=\"24px\">\n",
              "    <path d=\"M0 0h24v24H0V0z\" fill=\"none\"/>\n",
              "    <path d=\"M18.56 5.44l.94 2.06.94-2.06 2.06-.94-2.06-.94-.94-2.06-.94 2.06-2.06.94zm-11 1L8.5 8.5l.94-2.06 2.06-.94-2.06-.94L8.5 2.5l-.94 2.06-2.06.94zm10 10l.94 2.06.94-2.06 2.06-.94-2.06-.94-.94-2.06-.94 2.06-2.06.94z\"/><path d=\"M17.41 7.96l-1.37-1.37c-.4-.4-.92-.59-1.43-.59-.52 0-1.04.2-1.43.59L10.3 9.45l-7.72 7.72c-.78.78-.78 2.05 0 2.83L4 21.41c.39.39.9.59 1.41.59.51 0 1.02-.2 1.41-.59l7.78-7.78 2.81-2.81c.8-.78.8-2.07 0-2.86zM5.41 20L4 18.59l7.72-7.72 1.47 1.35L5.41 20z\"/>\n",
              "  </svg>\n",
              "      </button>\n",
              "      \n",
              "  <style>\n",
              "    .colab-df-container {\n",
              "      display:flex;\n",
              "      flex-wrap:wrap;\n",
              "      gap: 12px;\n",
              "    }\n",
              "\n",
              "    .colab-df-convert {\n",
              "      background-color: #E8F0FE;\n",
              "      border: none;\n",
              "      border-radius: 50%;\n",
              "      cursor: pointer;\n",
              "      display: none;\n",
              "      fill: #1967D2;\n",
              "      height: 32px;\n",
              "      padding: 0 0 0 0;\n",
              "      width: 32px;\n",
              "    }\n",
              "\n",
              "    .colab-df-convert:hover {\n",
              "      background-color: #E2EBFA;\n",
              "      box-shadow: 0px 1px 2px rgba(60, 64, 67, 0.3), 0px 1px 3px 1px rgba(60, 64, 67, 0.15);\n",
              "      fill: #174EA6;\n",
              "    }\n",
              "\n",
              "    [theme=dark] .colab-df-convert {\n",
              "      background-color: #3B4455;\n",
              "      fill: #D2E3FC;\n",
              "    }\n",
              "\n",
              "    [theme=dark] .colab-df-convert:hover {\n",
              "      background-color: #434B5C;\n",
              "      box-shadow: 0px 1px 3px 1px rgba(0, 0, 0, 0.15);\n",
              "      filter: drop-shadow(0px 1px 2px rgba(0, 0, 0, 0.3));\n",
              "      fill: #FFFFFF;\n",
              "    }\n",
              "  </style>\n",
              "\n",
              "      <script>\n",
              "        const buttonEl =\n",
              "          document.querySelector('#df-390be50b-830a-4049-bf8a-fce7ca87fa0f button.colab-df-convert');\n",
              "        buttonEl.style.display =\n",
              "          google.colab.kernel.accessAllowed ? 'block' : 'none';\n",
              "\n",
              "        async function convertToInteractive(key) {\n",
              "          const element = document.querySelector('#df-390be50b-830a-4049-bf8a-fce7ca87fa0f');\n",
              "          const dataTable =\n",
              "            await google.colab.kernel.invokeFunction('convertToInteractive',\n",
              "                                                     [key], {});\n",
              "          if (!dataTable) return;\n",
              "\n",
              "          const docLinkHtml = 'Like what you see? Visit the ' +\n",
              "            '<a target=\"_blank\" href=https://colab.research.google.com/notebooks/data_table.ipynb>data table notebook</a>'\n",
              "            + ' to learn more about interactive tables.';\n",
              "          element.innerHTML = '';\n",
              "          dataTable['output_type'] = 'display_data';\n",
              "          await google.colab.output.renderOutput(dataTable, element);\n",
              "          const docLink = document.createElement('div');\n",
              "          docLink.innerHTML = docLinkHtml;\n",
              "          element.appendChild(docLink);\n",
              "        }\n",
              "      </script>\n",
              "    </div>\n",
              "  </div>\n",
              "  "
            ]
          },
          "metadata": {}
        }
      ]
    }
  ],
  "metadata": {
    "colab": {
      "provenance": []
    },
    "kernelspec": {
      "display_name": "Python 3",
      "name": "python3"
    },
    "language_info": {
      "name": "python"
    }
  },
  "nbformat": 4,
  "nbformat_minor": 0
}